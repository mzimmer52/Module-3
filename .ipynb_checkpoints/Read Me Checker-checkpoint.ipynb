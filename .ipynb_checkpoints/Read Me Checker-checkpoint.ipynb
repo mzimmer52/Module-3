{
 "cells": [
  {
   "cell_type": "markdown",
   "metadata": {},
   "source": [
    "# Introduction\n",
    "\n",
    "### Having chosen to work with the Tanzania Waterpump dataset, I knew coming into the project that the majority of my work would involve data preprocessing, feature engineering, and training many models. I also knew I would need to set up some sort of process where I could automatically transform my testing data to have the same features as the data I trained my model on. \n",
    "\n",
    "\n",
    "\n",
    "\n",
    "# Models Used:\n",
    "### Random Forest\n",
    "### Decision Tree\n",
    "### Adaboost\n",
    "### XGBoost\n",
    "### Gradient Boost"
   ]
  },
  {
   "cell_type": "markdown",
   "metadata": {},
   "source": [
    "<img src=\"Score\">"
   ]
  },
  {
   "cell_type": "markdown",
   "metadata": {},
   "source": [
    "### Finding the right hyperparameters was also a big struggle during the project. Using GridSearchCV, I was able to find the optimal paramaters for the majority of my models, even though some models took 4+ hours of training time in order to find the optimal parameters. "
   ]
  },
  {
   "cell_type": "markdown",
   "metadata": {},
   "source": [
    "## Random Forest Optimal Parameters:"
   ]
  },
  {
   "cell_type": "markdown",
   "metadata": {},
   "source": [
    " <img src=\"Params\">"
   ]
  },
  {
   "cell_type": "markdown",
   "metadata": {},
   "source": [
    "# Making Use of the Pipe and Align Function"
   ]
  },
  {
   "cell_type": "markdown",
   "metadata": {},
   "source": [
    "### A big realization had during the middle of the project was if there was another way to transform new testing data the same way as my training data without having to do all of it manually. Using the Pipe function in Pandas, I was able to efficiently set up a multitude of functions that would help me transform test data in a single line of code. "
   ]
  },
  {
   "cell_type": "markdown",
   "metadata": {},
   "source": [
    "<img src=\"Pipe\">"
   ]
  },
  {
   "cell_type": "markdown",
   "metadata": {},
   "source": [
    "## As seen in the code above, all the functions defined earlier in the data preprocessing stage were combine with \"pipe\" in order to achieve fast, efficient, and effortless data transformations to new data "
   ]
  },
  {
   "cell_type": "markdown",
   "metadata": {},
   "source": [
    "<img src=\"Align\">"
   ]
  },
  {
   "cell_type": "markdown",
   "metadata": {},
   "source": [
    "## Another big realization was that I could deal with different categorical variables in either the testing or training data by using the align function in pandas, making it possible to run the same model on each dataset despite the difference in the number of columns. As seen above, both datasets have the same number of columns after the function is run."
   ]
  },
  {
   "cell_type": "markdown",
   "metadata": {},
   "source": [
    " "
   ]
  },
  {
   "cell_type": "markdown",
   "metadata": {},
   "source": [
    "# Confusion Matrix\n",
    "\n",
    "<img src=\"Matrix\">"
   ]
  },
  {
   "cell_type": "markdown",
   "metadata": {},
   "source": [
    "## The confusion Matrix for training and test data (using sklearn's train_test_split) is shown above. As we can see, the greatest source of errors for the model occur where the model predicts the pump is functional, while in reality it is not. Future models can adress/fix issues pertaining to specific errors like this.\n"
   ]
  },
  {
   "cell_type": "markdown",
   "metadata": {},
   "source": [
    "## Interestingly enough, while not shown in this document, all the models that were trained all had the most amount of their errors where the pump was actually non-functional but labeled functional"
   ]
  },
  {
   "cell_type": "code",
   "execution_count": null,
   "metadata": {},
   "outputs": [],
   "source": []
  }
 ],
 "metadata": {
  "kernelspec": {
   "display_name": "Python 3",
   "language": "python",
   "name": "python3"
  },
  "language_info": {
   "codemirror_mode": {
    "name": "ipython",
    "version": 3
   },
   "file_extension": ".py",
   "mimetype": "text/x-python",
   "name": "python",
   "nbconvert_exporter": "python",
   "pygments_lexer": "ipython3",
   "version": "3.8.3"
  }
 },
 "nbformat": 4,
 "nbformat_minor": 4
}
